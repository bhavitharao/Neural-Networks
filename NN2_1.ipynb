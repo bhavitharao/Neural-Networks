{
  "nbformat": 4,
  "nbformat_minor": 0,
  "metadata": {
    "colab": {
      "provenance": []
    },
    "kernelspec": {
      "name": "python3",
      "display_name": "Python 3"
    },
    "language_info": {
      "name": "python"
    }
  },
  "cells": [
    {
      "cell_type": "code",
      "execution_count": 1,
      "metadata": {
        "id": "0W5XTOesZPuR"
      },
      "outputs": [],
      "source": [
        "import pandas as pd\n",
        "import numpy as np\n",
        "import matplotlib.pyplot as plt\n",
        "from sklearn.model_selection import train_test_split\n",
        "from sklearn.preprocessing import MinMaxScaler\n",
        "from tensorflow import keras\n",
        "import tensorflow as tf"
      ]
    },
    {
      "cell_type": "code",
      "source": [
        "df = pd.read_csv('Problem2 - Greenland.csv')"
      ],
      "metadata": {
        "id": "0uNqttX5ZWvv"
      },
      "execution_count": 2,
      "outputs": []
    },
    {
      "cell_type": "code",
      "source": [
        "X = df[['PMF Factor 1','PMF Factor 2']]\n",
        "y = df['PMF Factor 3']"
      ],
      "metadata": {
        "id": "i3lNTL_QZYVk"
      },
      "execution_count": 3,
      "outputs": []
    },
    {
      "cell_type": "code",
      "source": [
        "scaler = MinMaxScaler()\n",
        "X_scaled = scaler.fit_transform(X)"
      ],
      "metadata": {
        "id": "YwWMX0-DZZ2M"
      },
      "execution_count": 4,
      "outputs": []
    },
    {
      "cell_type": "code",
      "source": [
        "X_train, X_test, y_train, y_test = train_test_split(X_scaled, y, test_size=0.2, random_state=42)"
      ],
      "metadata": {
        "id": "yWww-icOZbQy"
      },
      "execution_count": 5,
      "outputs": []
    },
    {
      "cell_type": "code",
      "source": [
        "model = keras.Sequential()\n",
        "model.add(keras.layers.Dense(units = 1, activation = 'relu', input_shape=(X_train.shape[1],)))\n",
        "#model.add(keras.layers.Dense(units = 16, activation = 'relu'))\n",
        "model.add(keras.layers.Dense(units = 32, activation = 'relu'))\n",
        "model.add(keras.layers.Dense(units = 64, activation = 'relu'))\n",
        "#model.add(keras.layers.Dense(units = 128, activation = 'relu'))\n",
        "#model.add(keras.layers.Dense(units = 256, activation = 'linear'))\n",
        "#model.add(keras.layers.Dense(units = 512, activation = 'linear'))\n",
        "\n",
        "\n",
        "#model.add(keras.layers.Dense(units = 256, activation = 'linear'))\n",
        "model.add(keras.layers.Dense(units = 128, activation = 'relu'))\n",
        "model.add(keras.layers.Dense(units = 64, activation = 'relu'))\n",
        "model.add(keras.layers.Dense(units = 32, activation = 'relu'))\n",
        "#model.add(keras.layers.Dense(units = 16, activation = 'relu'))\n",
        "model.add(keras.layers.Dense(units = 1, activation = 'linear'))\n",
        "model.compile(loss='mse', optimizer='sgd')"
      ],
      "metadata": {
        "id": "ortIQhYjZcpD"
      },
      "execution_count": 60,
      "outputs": []
    },
    {
      "cell_type": "code",
      "source": [
        "model.summary()"
      ],
      "metadata": {
        "colab": {
          "base_uri": "https://localhost:8080/"
        },
        "id": "O0cGdvUkZerB",
        "outputId": "0483361b-9034-472b-f85e-34af40cce29e"
      },
      "execution_count": 61,
      "outputs": [
        {
          "output_type": "stream",
          "name": "stdout",
          "text": [
            "Model: \"sequential_13\"\n",
            "_________________________________________________________________\n",
            " Layer (type)                Output Shape              Param #   \n",
            "=================================================================\n",
            " dense_90 (Dense)            (None, 1)                 3         \n",
            "                                                                 \n",
            " dense_91 (Dense)            (None, 32)                64        \n",
            "                                                                 \n",
            " dense_92 (Dense)            (None, 64)                2112      \n",
            "                                                                 \n",
            " dense_93 (Dense)            (None, 128)               8320      \n",
            "                                                                 \n",
            " dense_94 (Dense)            (None, 64)                8256      \n",
            "                                                                 \n",
            " dense_95 (Dense)            (None, 32)                2080      \n",
            "                                                                 \n",
            " dense_96 (Dense)            (None, 1)                 33        \n",
            "                                                                 \n",
            "=================================================================\n",
            "Total params: 20,868\n",
            "Trainable params: 20,868\n",
            "Non-trainable params: 0\n",
            "_________________________________________________________________\n"
          ]
        }
      ]
    },
    {
      "cell_type": "code",
      "source": [
        "model.fit(X_train, y_train, epochs=100, verbose=1)"
      ],
      "metadata": {
        "colab": {
          "base_uri": "https://localhost:8080/"
        },
        "id": "6iySm13-Zgy6",
        "outputId": "a3d6c837-3887-4c4b-f274-a6c5cacac76a"
      },
      "execution_count": 62,
      "outputs": [
        {
          "output_type": "stream",
          "name": "stdout",
          "text": [
            "Epoch 1/100\n",
            "9/9 [==============================] - 0s 2ms/step - loss: 0.7161\n",
            "Epoch 2/100\n",
            "9/9 [==============================] - 0s 2ms/step - loss: 0.2865\n",
            "Epoch 3/100\n",
            "9/9 [==============================] - 0s 2ms/step - loss: 0.1274\n",
            "Epoch 4/100\n",
            "9/9 [==============================] - 0s 2ms/step - loss: 0.0838\n",
            "Epoch 5/100\n",
            "9/9 [==============================] - 0s 2ms/step - loss: 0.0745\n",
            "Epoch 6/100\n",
            "9/9 [==============================] - 0s 3ms/step - loss: 0.0723\n",
            "Epoch 7/100\n",
            "9/9 [==============================] - 0s 2ms/step - loss: 0.0722\n",
            "Epoch 8/100\n",
            "9/9 [==============================] - 0s 2ms/step - loss: 0.0718\n",
            "Epoch 9/100\n",
            "9/9 [==============================] - 0s 3ms/step - loss: 0.0716\n",
            "Epoch 10/100\n",
            "9/9 [==============================] - 0s 2ms/step - loss: 0.0716\n",
            "Epoch 11/100\n",
            "9/9 [==============================] - 0s 2ms/step - loss: 0.0716\n",
            "Epoch 12/100\n",
            "9/9 [==============================] - 0s 3ms/step - loss: 0.0716\n",
            "Epoch 13/100\n",
            "9/9 [==============================] - 0s 2ms/step - loss: 0.0714\n",
            "Epoch 14/100\n",
            "9/9 [==============================] - 0s 3ms/step - loss: 0.0715\n",
            "Epoch 15/100\n",
            "9/9 [==============================] - 0s 2ms/step - loss: 0.0714\n",
            "Epoch 16/100\n",
            "9/9 [==============================] - 0s 2ms/step - loss: 0.0712\n",
            "Epoch 17/100\n",
            "9/9 [==============================] - 0s 2ms/step - loss: 0.0715\n",
            "Epoch 18/100\n",
            "9/9 [==============================] - 0s 2ms/step - loss: 0.0713\n",
            "Epoch 19/100\n",
            "9/9 [==============================] - 0s 2ms/step - loss: 0.0713\n",
            "Epoch 20/100\n",
            "9/9 [==============================] - 0s 2ms/step - loss: 0.0713\n",
            "Epoch 21/100\n",
            "9/9 [==============================] - 0s 3ms/step - loss: 0.0710\n",
            "Epoch 22/100\n",
            "9/9 [==============================] - 0s 2ms/step - loss: 0.0711\n",
            "Epoch 23/100\n",
            "9/9 [==============================] - 0s 2ms/step - loss: 0.0709\n",
            "Epoch 24/100\n",
            "9/9 [==============================] - 0s 2ms/step - loss: 0.0709\n",
            "Epoch 25/100\n",
            "9/9 [==============================] - 0s 2ms/step - loss: 0.0709\n",
            "Epoch 26/100\n",
            "9/9 [==============================] - 0s 2ms/step - loss: 0.0706\n",
            "Epoch 27/100\n",
            "9/9 [==============================] - 0s 2ms/step - loss: 0.0708\n",
            "Epoch 28/100\n",
            "9/9 [==============================] - 0s 2ms/step - loss: 0.0710\n",
            "Epoch 29/100\n",
            "9/9 [==============================] - 0s 2ms/step - loss: 0.0705\n",
            "Epoch 30/100\n",
            "9/9 [==============================] - 0s 2ms/step - loss: 0.0705\n",
            "Epoch 31/100\n",
            "9/9 [==============================] - 0s 2ms/step - loss: 0.0706\n",
            "Epoch 32/100\n",
            "9/9 [==============================] - 0s 2ms/step - loss: 0.0704\n",
            "Epoch 33/100\n",
            "9/9 [==============================] - 0s 2ms/step - loss: 0.0704\n",
            "Epoch 34/100\n",
            "9/9 [==============================] - 0s 2ms/step - loss: 0.0704\n",
            "Epoch 35/100\n",
            "9/9 [==============================] - 0s 2ms/step - loss: 0.0703\n",
            "Epoch 36/100\n",
            "9/9 [==============================] - 0s 2ms/step - loss: 0.0703\n",
            "Epoch 37/100\n",
            "9/9 [==============================] - 0s 2ms/step - loss: 0.0702\n",
            "Epoch 38/100\n",
            "9/9 [==============================] - 0s 2ms/step - loss: 0.0700\n",
            "Epoch 39/100\n",
            "9/9 [==============================] - 0s 2ms/step - loss: 0.0699\n",
            "Epoch 40/100\n",
            "9/9 [==============================] - 0s 2ms/step - loss: 0.0699\n",
            "Epoch 41/100\n",
            "9/9 [==============================] - 0s 2ms/step - loss: 0.0698\n",
            "Epoch 42/100\n",
            "9/9 [==============================] - 0s 3ms/step - loss: 0.0697\n",
            "Epoch 43/100\n",
            "9/9 [==============================] - 0s 2ms/step - loss: 0.0698\n",
            "Epoch 44/100\n",
            "9/9 [==============================] - 0s 2ms/step - loss: 0.0698\n",
            "Epoch 45/100\n",
            "9/9 [==============================] - 0s 2ms/step - loss: 0.0696\n",
            "Epoch 46/100\n",
            "9/9 [==============================] - 0s 2ms/step - loss: 0.0696\n",
            "Epoch 47/100\n",
            "9/9 [==============================] - 0s 2ms/step - loss: 0.0695\n",
            "Epoch 48/100\n",
            "9/9 [==============================] - 0s 2ms/step - loss: 0.0696\n",
            "Epoch 49/100\n",
            "9/9 [==============================] - 0s 2ms/step - loss: 0.0694\n",
            "Epoch 50/100\n",
            "9/9 [==============================] - 0s 2ms/step - loss: 0.0694\n",
            "Epoch 51/100\n",
            "9/9 [==============================] - 0s 2ms/step - loss: 0.0695\n",
            "Epoch 52/100\n",
            "9/9 [==============================] - 0s 2ms/step - loss: 0.0694\n",
            "Epoch 53/100\n",
            "9/9 [==============================] - 0s 3ms/step - loss: 0.0692\n",
            "Epoch 54/100\n",
            "9/9 [==============================] - 0s 2ms/step - loss: 0.0693\n",
            "Epoch 55/100\n",
            "9/9 [==============================] - 0s 2ms/step - loss: 0.0691\n",
            "Epoch 56/100\n",
            "9/9 [==============================] - 0s 2ms/step - loss: 0.0691\n",
            "Epoch 57/100\n",
            "9/9 [==============================] - 0s 3ms/step - loss: 0.0689\n",
            "Epoch 58/100\n",
            "9/9 [==============================] - 0s 2ms/step - loss: 0.0689\n",
            "Epoch 59/100\n",
            "9/9 [==============================] - 0s 2ms/step - loss: 0.0690\n",
            "Epoch 60/100\n",
            "9/9 [==============================] - 0s 2ms/step - loss: 0.0688\n",
            "Epoch 61/100\n",
            "9/9 [==============================] - 0s 2ms/step - loss: 0.0686\n",
            "Epoch 62/100\n",
            "9/9 [==============================] - 0s 2ms/step - loss: 0.0687\n",
            "Epoch 63/100\n",
            "9/9 [==============================] - 0s 3ms/step - loss: 0.0689\n",
            "Epoch 64/100\n",
            "9/9 [==============================] - 0s 3ms/step - loss: 0.0684\n",
            "Epoch 65/100\n",
            "9/9 [==============================] - 0s 2ms/step - loss: 0.0684\n",
            "Epoch 66/100\n",
            "9/9 [==============================] - 0s 2ms/step - loss: 0.0684\n",
            "Epoch 67/100\n",
            "9/9 [==============================] - 0s 2ms/step - loss: 0.0682\n",
            "Epoch 68/100\n",
            "9/9 [==============================] - 0s 2ms/step - loss: 0.0684\n",
            "Epoch 69/100\n",
            "9/9 [==============================] - 0s 2ms/step - loss: 0.0680\n",
            "Epoch 70/100\n",
            "9/9 [==============================] - 0s 2ms/step - loss: 0.0683\n",
            "Epoch 71/100\n",
            "9/9 [==============================] - 0s 2ms/step - loss: 0.0681\n",
            "Epoch 72/100\n",
            "9/9 [==============================] - 0s 2ms/step - loss: 0.0680\n",
            "Epoch 73/100\n",
            "9/9 [==============================] - 0s 2ms/step - loss: 0.0678\n",
            "Epoch 74/100\n",
            "9/9 [==============================] - 0s 2ms/step - loss: 0.0682\n",
            "Epoch 75/100\n",
            "9/9 [==============================] - 0s 2ms/step - loss: 0.0679\n",
            "Epoch 76/100\n",
            "9/9 [==============================] - 0s 2ms/step - loss: 0.0678\n",
            "Epoch 77/100\n",
            "9/9 [==============================] - 0s 2ms/step - loss: 0.0676\n",
            "Epoch 78/100\n",
            "9/9 [==============================] - 0s 2ms/step - loss: 0.0674\n",
            "Epoch 79/100\n",
            "9/9 [==============================] - 0s 2ms/step - loss: 0.0675\n",
            "Epoch 80/100\n",
            "9/9 [==============================] - 0s 2ms/step - loss: 0.0673\n",
            "Epoch 81/100\n",
            "9/9 [==============================] - 0s 2ms/step - loss: 0.0674\n",
            "Epoch 82/100\n",
            "9/9 [==============================] - 0s 2ms/step - loss: 0.0671\n",
            "Epoch 83/100\n",
            "9/9 [==============================] - 0s 2ms/step - loss: 0.0670\n",
            "Epoch 84/100\n",
            "9/9 [==============================] - 0s 2ms/step - loss: 0.0671\n",
            "Epoch 85/100\n",
            "9/9 [==============================] - 0s 2ms/step - loss: 0.0673\n",
            "Epoch 86/100\n",
            "9/9 [==============================] - 0s 2ms/step - loss: 0.0668\n",
            "Epoch 87/100\n",
            "9/9 [==============================] - 0s 2ms/step - loss: 0.0669\n",
            "Epoch 88/100\n",
            "9/9 [==============================] - 0s 2ms/step - loss: 0.0669\n",
            "Epoch 89/100\n",
            "9/9 [==============================] - 0s 2ms/step - loss: 0.0666\n",
            "Epoch 90/100\n",
            "9/9 [==============================] - 0s 3ms/step - loss: 0.0667\n",
            "Epoch 91/100\n",
            "9/9 [==============================] - 0s 3ms/step - loss: 0.0664\n",
            "Epoch 92/100\n",
            "9/9 [==============================] - 0s 2ms/step - loss: 0.0664\n",
            "Epoch 93/100\n",
            "9/9 [==============================] - 0s 3ms/step - loss: 0.0664\n",
            "Epoch 94/100\n",
            "9/9 [==============================] - 0s 3ms/step - loss: 0.0665\n",
            "Epoch 95/100\n",
            "9/9 [==============================] - 0s 3ms/step - loss: 0.0661\n",
            "Epoch 96/100\n",
            "9/9 [==============================] - 0s 2ms/step - loss: 0.0660\n",
            "Epoch 97/100\n",
            "9/9 [==============================] - 0s 3ms/step - loss: 0.0662\n",
            "Epoch 98/100\n",
            "9/9 [==============================] - 0s 2ms/step - loss: 0.0659\n",
            "Epoch 99/100\n",
            "9/9 [==============================] - 0s 2ms/step - loss: 0.0661\n",
            "Epoch 100/100\n",
            "9/9 [==============================] - 0s 2ms/step - loss: 0.0657\n"
          ]
        },
        {
          "output_type": "execute_result",
          "data": {
            "text/plain": [
              "<keras.callbacks.History at 0x7d26ded7c520>"
            ]
          },
          "metadata": {},
          "execution_count": 62
        }
      ]
    },
    {
      "cell_type": "code",
      "source": [
        "y_predicted_test = model.predict(X_test)"
      ],
      "metadata": {
        "colab": {
          "base_uri": "https://localhost:8080/"
        },
        "id": "HG6onaaFZgqm",
        "outputId": "a02260b4-ddc3-4de9-93bd-e81cd9c3ed7d"
      },
      "execution_count": 63,
      "outputs": [
        {
          "output_type": "stream",
          "name": "stdout",
          "text": [
            "3/3 [==============================] - 0s 2ms/step\n"
          ]
        }
      ]
    },
    {
      "cell_type": "code",
      "source": [
        "plt.scatter(X_train[:, 1], y_train, label='Actual (Train)', color='blue')\n",
        "plt.scatter(X_test[:, 1], y_predicted_test, label='Predicted (Test)', color='red', marker='x')\n",
        "\n",
        "plt.xlabel('PMF Factor 2')\n",
        "plt.ylabel('PMF Factor 3')\n",
        "plt.title('Scatter Plot: Actual vs. Predicted (Test Data)')\n",
        "plt.legend()\n",
        "plt.grid()\n",
        "plt.show()"
      ],
      "metadata": {
        "colab": {
          "base_uri": "https://localhost:8080/",
          "height": 472
        },
        "id": "iW5RPYWLZlqs",
        "outputId": "c896303b-728e-448e-92b8-0e0a0b5b867b"
      },
      "execution_count": 64,
      "outputs": [
        {
          "output_type": "display_data",
          "data": {
            "text/plain": [
              "<Figure size 640x480 with 1 Axes>"
            ],
            "image/png": "[encoded data removed]"
          },
          "metadata": {}
        }
      ]
    }
  ]
}